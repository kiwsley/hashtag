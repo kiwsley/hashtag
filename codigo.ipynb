{
 "cells": [
  {
   "cell_type": "code",
   "execution_count": null,
   "metadata": {},
   "outputs": [],
   "source": [
    "import pandas as pd\n",
    "\n",
    "tabela = pd.read_csv(\"cancelamentos.csv\")\n",
    "tabela = tabela.drop(\"CustomerID\", axis=1)\n",
    "#display(tabela)\n",
    "\n",
    "#identificando e removendo valores vazios\n",
    "\n",
    "display(tabela.info())\n",
    "tabela=tabela.dropna() # limpando valores vazios\n",
    "display(tabela.info())"
   ]
  },
  {
   "cell_type": "code",
   "execution_count": null,
   "metadata": {},
   "outputs": [],
   "source": [
    "# quantas pessoas cancelaram e não cancelaram\n",
    "\n",
    "display(tabela[\"cancelou\"].value_counts())\n",
    "display(tabela[\"cancelou\"].value_counts(normalize=True).map(\"{:.1%}\".format))\n",
    "\n",
    "#verificando a proporção da taxa de cancelamento por contrato\n",
    "\n",
    "display(tabela[\"duracao_contrato\"].value_counts(normalize=True).map(\"{:.1%}\".format))\n",
    "display(tabela[\"duracao_contrato\"].value_counts())\n",
    "\n",
    "#Analisando o contrato Mensal\n",
    "display(tabela.groupby(\"duracao_contrato\").mean(numeric_only=True))"
   ]
  },
  {
   "cell_type": "code",
   "execution_count": null,
   "metadata": {},
   "outputs": [],
   "source": [
    "#Descobrimos que o contatro mensal é ruim, removendo da analise\n",
    "\n",
    "tabela=tabela[tabela[\"duracao_contrato\"]!=\"Monthly\"]\n",
    "\n",
    "display(tabela)\n",
    "display(tabela[\"cancelou\"].value_counts())\n",
    "display(tabela[\"cancelou\"].value_counts(normalize=True).map(\"{:.1%}\".format))\n",
    "\n"
   ]
  },
  {
   "cell_type": "code",
   "execution_count": 7,
   "metadata": {},
   "outputs": [
    {
     "data": {
      "text/plain": [
       "assinatura\n",
       "Standard    0.339648\n",
       "Premium     0.338138\n",
       "Basic       0.322215\n",
       "Name: proportion, dtype: float64"
      ]
     },
     "metadata": {},
     "output_type": "display_data"
    },
    {
     "data": {
      "text/html": [
       "<div>\n",
       "<style scoped>\n",
       "    .dataframe tbody tr th:only-of-type {\n",
       "        vertical-align: middle;\n",
       "    }\n",
       "\n",
       "    .dataframe tbody tr th {\n",
       "        vertical-align: top;\n",
       "    }\n",
       "\n",
       "    .dataframe thead th {\n",
       "        text-align: right;\n",
       "    }\n",
       "</style>\n",
       "<table border=\"1\" class=\"dataframe\">\n",
       "  <thead>\n",
       "    <tr style=\"text-align: right;\">\n",
       "      <th></th>\n",
       "      <th>idade</th>\n",
       "      <th>tempo_como_cliente</th>\n",
       "      <th>frequencia_uso</th>\n",
       "      <th>ligacoes_callcenter</th>\n",
       "      <th>dias_atraso</th>\n",
       "      <th>total_gasto</th>\n",
       "      <th>meses_ultima_interacao</th>\n",
       "      <th>cancelou</th>\n",
       "    </tr>\n",
       "    <tr>\n",
       "      <th>assinatura</th>\n",
       "      <th></th>\n",
       "      <th></th>\n",
       "      <th></th>\n",
       "      <th></th>\n",
       "      <th></th>\n",
       "      <th></th>\n",
       "      <th></th>\n",
       "      <th></th>\n",
       "    </tr>\n",
       "  </thead>\n",
       "  <tbody>\n",
       "    <tr>\n",
       "      <th>Basic</th>\n",
       "      <td>38.904813</td>\n",
       "      <td>32.316031</td>\n",
       "      <td>15.876921</td>\n",
       "      <td>3.310021</td>\n",
       "      <td>12.507054</td>\n",
       "      <td>648.642614</td>\n",
       "      <td>14.240814</td>\n",
       "      <td>0.475188</td>\n",
       "    </tr>\n",
       "    <tr>\n",
       "      <th>Premium</th>\n",
       "      <td>38.817814</td>\n",
       "      <td>30.977869</td>\n",
       "      <td>15.889673</td>\n",
       "      <td>3.235886</td>\n",
       "      <td>12.433427</td>\n",
       "      <td>653.337633</td>\n",
       "      <td>14.231150</td>\n",
       "      <td>0.452338</td>\n",
       "    </tr>\n",
       "    <tr>\n",
       "      <th>Standard</th>\n",
       "      <td>38.790478</td>\n",
       "      <td>31.048621</td>\n",
       "      <td>15.883393</td>\n",
       "      <td>3.249275</td>\n",
       "      <td>12.450690</td>\n",
       "      <td>652.566793</td>\n",
       "      <td>14.234280</td>\n",
       "      <td>0.454714</td>\n",
       "    </tr>\n",
       "  </tbody>\n",
       "</table>\n",
       "</div>"
      ],
      "text/plain": [
       "                idade  tempo_como_cliente  frequencia_uso  \\\n",
       "assinatura                                                  \n",
       "Basic       38.904813           32.316031       15.876921   \n",
       "Premium     38.817814           30.977869       15.889673   \n",
       "Standard    38.790478           31.048621       15.883393   \n",
       "\n",
       "            ligacoes_callcenter  dias_atraso  total_gasto  \\\n",
       "assinatura                                                  \n",
       "Basic                  3.310021    12.507054   648.642614   \n",
       "Premium                3.235886    12.433427   653.337633   \n",
       "Standard               3.249275    12.450690   652.566793   \n",
       "\n",
       "            meses_ultima_interacao  cancelou  \n",
       "assinatura                                    \n",
       "Basic                    14.240814  0.475188  \n",
       "Premium                  14.231150  0.452338  \n",
       "Standard                 14.234280  0.454714  "
      ]
     },
     "metadata": {},
     "output_type": "display_data"
    }
   ],
   "source": [
    "#chegamos agora em menos da metade de pessoal cancelando, mas ainda é bem alta a taxa\n",
    "\n",
    "display(tabela[\"assinatura\"].value_counts(normalize=True))\n",
    "display(tabela.groupby(\"assinatura\").mean(numeric_only=True))\n",
    "\n",
    "#podemos observar que a taxa de cancelamento é praticamente 1/3 para todos os tipos"
   ]
  },
  {
   "cell_type": "code",
   "execution_count": null,
   "metadata": {},
   "outputs": [],
   "source": [
    "#Analise grafica para verificar\n",
    "\n",
    "import plotly.express as px\n",
    "\n",
    "\n",
    "for coluna in tabela.columns:\n",
    "    grafico = px.histogram(tabela, x=coluna, color=\"cancelou\", width=600)\n",
    "    grafico.show()\n",
    "   \n",
    "    \n",
    "    \n",
    "\n",
    "    "
   ]
  }
 ],
 "metadata": {
  "kernelspec": {
   "display_name": "Python 3",
   "language": "python",
   "name": "python3"
  },
  "language_info": {
   "codemirror_mode": {
    "name": "ipython",
    "version": 3
   },
   "file_extension": ".py",
   "mimetype": "text/x-python",
   "name": "python",
   "nbconvert_exporter": "python",
   "pygments_lexer": "ipython3",
   "version": "3.11.4"
  },
  "orig_nbformat": 4
 },
 "nbformat": 4,
 "nbformat_minor": 2
}
